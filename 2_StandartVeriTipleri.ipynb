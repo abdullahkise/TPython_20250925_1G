{
 "cells": [
  {
   "cell_type": "markdown",
   "id": "1ada79cc",
   "metadata": {},
   "source": [
    "# Standart Veri Tipleri\n",
    "* [python.org](www.python.org) ile link\n",
    "* ![PythonLogo](https://www.python.org/static/img/python-logo.png)\n",
    "![alt text](helper/PythonVeriTipleri.png)\n",
    "  "
   ]
  },
  {
   "cell_type": "markdown",
   "id": "b6a216b1",
   "metadata": {},
   "source": [
    "## Değişken Tanımlama"
   ]
  },
  {
   "cell_type": "code",
   "execution_count": 3,
   "id": "fcb169fc",
   "metadata": {},
   "outputs": [
    {
     "data": {
      "text/plain": [
       "str"
      ]
     },
     "execution_count": 3,
     "metadata": {},
     "output_type": "execute_result"
    }
   ],
   "source": [
    "#pyhthon dynamic type özelliğine sahiptir.\n",
    "degisken = 1\n",
    "degisken = \"metin\"\n",
    "\n",
    "#\n",
    "type(degisken) #nesnenin tipini öğrenmek için"
   ]
  },
  {
   "cell_type": "code",
   "execution_count": 4,
   "id": "1a9c6ce0",
   "metadata": {},
   "outputs": [
    {
     "name": "stdout",
     "output_type": "stream",
     "text": [
      "1\n",
      "1\n"
     ]
    }
   ],
   "source": [
    "#zincir yönetmi\n",
    "x = y = 1\n",
    "\n",
    "print(x)\n",
    "print(y)"
   ]
  },
  {
   "cell_type": "markdown",
   "id": "70396efe",
   "metadata": {},
   "source": [
    "## Standart Tipleri Keşfedelim\n",
    "### 1.Primitive Types\n",
    "#### Numeric"
   ]
  },
  {
   "cell_type": "code",
   "execution_count": 13,
   "id": "a292492c",
   "metadata": {},
   "outputs": [
    {
     "data": {
      "text/plain": [
       "int"
      ]
     },
     "execution_count": 13,
     "metadata": {},
     "output_type": "execute_result"
    }
   ],
   "source": [
    "i = 1 #int(1)\n",
    "f = 1.23 #float(1.23)\n",
    "c = 3+4j #complex(3,4) #real imagein kısmını vermiş oluruz.\n",
    "\n",
    "type(i)"
   ]
  },
  {
   "cell_type": "markdown",
   "id": "77faa4b4",
   "metadata": {},
   "source": [
    "#### Bool"
   ]
  },
  {
   "cell_type": "code",
   "execution_count": 14,
   "id": "a2e22629",
   "metadata": {},
   "outputs": [
    {
     "data": {
      "text/plain": [
       "bool"
      ]
     },
     "execution_count": 14,
     "metadata": {},
     "output_type": "execute_result"
    }
   ],
   "source": [
    "b = True #bool(True) veya False\n",
    "\n",
    "type(b)"
   ]
  },
  {
   "cell_type": "markdown",
   "id": "4a6fb4b9",
   "metadata": {},
   "source": [
    "#### NoneType"
   ]
  },
  {
   "cell_type": "code",
   "execution_count": 9,
   "id": "5f185c63",
   "metadata": {},
   "outputs": [
    {
     "data": {
      "text/plain": [
       "NoneType"
      ]
     },
     "execution_count": 9,
     "metadata": {},
     "output_type": "execute_result"
    }
   ],
   "source": [
    "type(None) #None nonetypedir. NA, NaN, NaT vs. şeklinde görülebilir."
   ]
  },
  {
   "cell_type": "markdown",
   "id": "76c40479",
   "metadata": {},
   "source": [
    "### 2.Container Types\n",
    "#### Sequence Tipler:\n",
    "* Sıralıdır. Elemanlarına sıra numarası ile erişlebilir\n"
   ]
  },
  {
   "cell_type": "markdown",
   "id": "b03cbc21",
   "metadata": {},
   "source": [
    "##### str\n",
    "* karakterlerden oluşur.\n",
    "* \",' veya bunlardan 3'er tanesi ile tanımalanbilir."
   ]
  },
  {
   "cell_type": "code",
   "execution_count": null,
   "id": "3cc436aa",
   "metadata": {},
   "outputs": [
    {
     "name": "stdout",
     "output_type": "stream",
     "text": [
      "SELECT\n",
      "    kol1,\n",
      "    kol2,\n",
      "    kol3\n",
      "FROM Tablo\n",
      "\n"
     ]
    }
   ],
   "source": [
    "metin = \"merhaba dünyalı\" #çift\n",
    "metin = 'merhaba'         #tek\n",
    "metin = \"\"\"SELECT\n",
    "    kol1,\n",
    "    kol2,\n",
    "    kol3\n",
    "FROM Tablo\n",
    "\"\"\"\n",
    "#başa sona 3'er tırnak çoklu satır yazmamızı sağlar.\n",
    "\n",
    "print(metin)"
   ]
  },
  {
   "cell_type": "markdown",
   "id": "ad802b1b",
   "metadata": {},
   "source": [
    "##### tuple\n",
    "* Farklı tipten elemanlar tutabilir.\n",
    "* Elemanları değiştirilemez. Eleman ekleyip çıkarılamaz. yani **immutable** tiptir."
   ]
  },
  {
   "cell_type": "code",
   "execution_count": 15,
   "id": "d76b51a5",
   "metadata": {},
   "outputs": [],
   "source": [
    "t = (1,2,3,False,True, \"metin\")\n",
    "t = 1,2,3,False,True, \"metin\" #aleternatif tuple tanımlanır."
   ]
  },
  {
   "cell_type": "markdown",
   "id": "65851755",
   "metadata": {},
   "source": [
    "#### List\n",
    "* Elemanları güncellenebilir. mutable tiptir."
   ]
  },
  {
   "cell_type": "code",
   "execution_count": null,
   "id": "19592efe",
   "metadata": {},
   "outputs": [
    {
     "data": {
      "text/plain": [
       "[1, 2, 3, False, True, 'meitn']"
      ]
     },
     "execution_count": 16,
     "metadata": {},
     "output_type": "execute_result"
    }
   ],
   "source": [
    "l = [1,2,3,False,True,\"metin\"]\n",
    "l"
   ]
  },
  {
   "cell_type": "markdown",
   "id": "eb4248e4",
   "metadata": {},
   "source": [
    "##### Sequnce elemankarına erişmek\n",
    "* index:\n",
    "  * `nesne[siraNumarası]`\n",
    "  * index yani sıra numarası 0'dan başlar\n",
    "  * negatif değer geçerlidir. tersine, tersten, sondan.\n",
    "* slicer:\n",
    "  * `nesne[start : stop : step]`\n",
    "  * start: başlangıç. varsayılan 0 yani baştan\n",
    "  * stop : bitiş. varsayılan en sondır.\n",
    "  * spte : atlama. varsayılan 1"
   ]
  },
  {
   "cell_type": "code",
   "execution_count": null,
   "id": "7ddf1a8e",
   "metadata": {},
   "outputs": [
    {
     "data": {
      "text/plain": [
       "40"
      ]
     },
     "execution_count": 19,
     "metadata": {},
     "output_type": "execute_result"
    }
   ],
   "source": [
    "#index yöntemi\n",
    "l = [10,20,30,40,50,\"metin\"]\n",
    "l[0] #0. indexteki\n",
    "\n",
    " \n",
    "#\n",
    "l[-1] #son index\n",
    "l[-3] #sondan 3."
   ]
  },
  {
   "cell_type": "code",
   "execution_count": null,
   "id": "3da9c1d8",
   "metadata": {},
   "outputs": [
    {
     "data": {
      "text/plain": [
       "['metin', 50, 40, 30, 20, 10]"
      ]
     },
     "execution_count": 23,
     "metadata": {},
     "output_type": "execute_result"
    }
   ],
   "source": [
    "#slicer yöntemi\n",
    "l[::] #varsayılan değerlerini alır. en baştan en sona 1'er adımla gelr.\n",
    "\n",
    "#\n",
    "l[1:4:2] #1. indexten 4. indexe 2 adımda bir getir.\n",
    "\n",
    "#\n",
    "l[:3] #ilk 3 tanesini getir\n",
    "\n",
    "#step -1\n",
    "l[::-1] #listeyi tersten getirir."
   ]
  },
  {
   "cell_type": "code",
   "execution_count": 26,
   "id": "aa410bf9",
   "metadata": {},
   "outputs": [
    {
     "data": {
      "text/plain": [
       "'n'"
      ]
     },
     "execution_count": 26,
     "metadata": {},
     "output_type": "execute_result"
    }
   ],
   "source": [
    "m = \"metin\"\n",
    "\n",
    "m[-1] #son karakter\n",
    "#print(m[-1])"
   ]
  },
  {
   "cell_type": "code",
   "execution_count": 32,
   "id": "189dd824",
   "metadata": {},
   "outputs": [
    {
     "data": {
      "text/plain": [
       "1"
      ]
     },
     "execution_count": 32,
     "metadata": {},
     "output_type": "execute_result"
    }
   ],
   "source": [
    "# tuple değiştirilemezdir.\n",
    "l[0] #10\n",
    "l[0] = 100\n",
    "\n",
    "#\n",
    "l #liste mutable yani güncellenebilir.\n",
    "\n",
    "\n",
    "#\n",
    "t\n",
    "t[0] #1\n",
    "#t[0] = \"hata verir!!!\" #TypeError tuple immutable oduğu için eleman atadığızda hata verir."
   ]
  },
  {
   "cell_type": "markdown",
   "id": "0203cf31",
   "metadata": {},
   "source": [
    "#### Set types\n",
    "##### set ve frozenset\n",
    "* set mutabledir.\n",
    "  * elemanları immutable olmak zorunda\n",
    "  * benzersiz eleman tutar.\n",
    "  * matematikteki küme işlemini destekler\n",
    "* frozenset immutabledır."
   ]
  },
  {
   "cell_type": "code",
   "execution_count": 35,
   "id": "f30a5809",
   "metadata": {},
   "outputs": [
    {
     "data": {
      "text/plain": [
       "{0, 1, 2, 3}"
      ]
     },
     "execution_count": 35,
     "metadata": {},
     "output_type": "execute_result"
    }
   ],
   "source": [
    "s = {0,1,2,3,3,0} #tekil tutar.\n",
    "s"
   ]
  },
  {
   "cell_type": "code",
   "execution_count": 43,
   "id": "c2ab60ff",
   "metadata": {},
   "outputs": [
    {
     "data": {
      "text/plain": [
       "{0, 1, 'metin'}"
      ]
     },
     "execution_count": 43,
     "metadata": {},
     "output_type": "execute_result"
    }
   ],
   "source": [
    "s = {0,1,True,False,\"metin\",\"metin\"}\n",
    "#pythondaki genel varsayım şöyle:\n",
    "#0,None,boş containerlar genelde False olarka değerlendirilir. Diğerleri True olur.\n",
    "#Burada 0 False, 1 True olarak kabul edildi ve tekilleştirildi.\n",
    "s"
   ]
  },
  {
   "cell_type": "markdown",
   "id": "8f277046",
   "metadata": {},
   "source": [
    "#### Mapping\n",
    "##### dict\n",
    "* key:value şeklinde tutar.\n",
    "* elemanlara keylerle erişir.\n",
    "  * keyler immutable olmalıdır."
   ]
  },
  {
   "cell_type": "code",
   "execution_count": 46,
   "id": "16a35472",
   "metadata": {},
   "outputs": [],
   "source": [
    "#unhashable type: 'list' ile immutable verilmesi gerek yere mutable tip verildi.\n",
    "personel = {\n",
    "            \"ad\":\"Abdullah\",\n",
    "            \"soyad\":\"Kise\",\n",
    "            \"Telefon\":[\"123-31\",\"12314-3453\"],\n",
    "            \"AktifMi\":True,\n",
    "            #[2025,\"Maaş\"]: 13213.34 #list mutabledir.\n",
    "            (2025,\"Maaş\"): 13213.34 #tuple immutabled\n",
    "}"
   ]
  },
  {
   "cell_type": "code",
   "execution_count": 47,
   "id": "a59108bb",
   "metadata": {},
   "outputs": [
    {
     "data": {
      "text/plain": [
       "{'ad': 'Abdullah',\n",
       " 'soyad': 'Kise',\n",
       " 'Telefon': ['123-31', '12314-3453'],\n",
       " 'AktifMi': True,\n",
       " (2025, 'Maaş'): 13213.34}"
      ]
     },
     "execution_count": 47,
     "metadata": {},
     "output_type": "execute_result"
    }
   ],
   "source": [
    "personel"
   ]
  },
  {
   "cell_type": "markdown",
   "id": "c1361041",
   "metadata": {},
   "source": [
    "### Dict tipinin elemanlarına erişmek\n",
    "* `nesne[Key]`\n",
    "* `nesne.get(key)` #eğer key yoksa hata vermez. istenilen değer basılabilir."
   ]
  },
  {
   "cell_type": "code",
   "execution_count": 50,
   "id": "9467a487",
   "metadata": {},
   "outputs": [
    {
     "data": {
      "text/plain": [
       "'12314-3453'"
      ]
     },
     "execution_count": 50,
     "metadata": {},
     "output_type": "execute_result"
    }
   ],
   "source": [
    "personel[\"ad\"]\n",
    "personel[\"Telefon\"] #['123-31', '12314-3453']\n",
    "\n",
    "#\n",
    "personel[\"Telefon\"][-1] #listeinin son elemanıa erişiriz."
   ]
  },
  {
   "cell_type": "code",
   "execution_count": 55,
   "id": "b9781912",
   "metadata": {},
   "outputs": [
    {
     "data": {
      "text/plain": [
       "'Böyle bir key yok'"
      ]
     },
     "execution_count": 55,
     "metadata": {},
     "output_type": "execute_result"
    }
   ],
   "source": [
    "#personel[\"olmayanKey\"] #hata veirr.\n",
    "personel.get(\"olmayanKey\")\n",
    "personel.get(\"olmayanKey\", \"Böyle bir key yok\") #ikinci parametre None gelirse dönecek değerdir."
   ]
  },
  {
   "cell_type": "code",
   "execution_count": null,
   "id": "2dd2a8cb",
   "metadata": {},
   "outputs": [
    {
     "data": {
      "text/plain": [
       "dict_items([('ad', 'Abdullah'), ('soyad', 'Kise'), ('Telefon', ['123-31', '12314-3453']), ('AktifMi', True), ((2025, 'Maaş'), 13213.34)])"
      ]
     },
     "execution_count": 58,
     "metadata": {},
     "output_type": "execute_result"
    }
   ],
   "source": [
    "personel.keys() #dict_keys(['ad', 'soyad', 'Telefon', 'AktifMi', (2025, 'Maaş')])\n",
    "personel.values() #dict_values(['Abdullah', 'Kise', ['123-31', '12314-3453'], True, 13213.34])\n",
    "\n",
    "#\n",
    "personel.items() #(key,value) tuple ikilileri şeklinde getirir."
   ]
  },
  {
   "cell_type": "markdown",
   "id": "a156c579",
   "metadata": {},
   "source": [
    "## Tiplere Ait Bazı Fonksiyonlar"
   ]
  },
  {
   "cell_type": "markdown",
   "id": "d74d897b",
   "metadata": {},
   "source": [
    "### str"
   ]
  },
  {
   "cell_type": "code",
   "execution_count": null,
   "id": "801d211a",
   "metadata": {},
   "outputs": [
    {
     "data": {
      "text/plain": [
       "'Ali;Uçan'"
      ]
     },
     "execution_count": 74,
     "metadata": {},
     "output_type": "execute_result"
    }
   ],
   "source": [
    "\n",
    "dir(str)\n",
    "\n",
    "#\n",
    "m = \"_mErHAba dünYAli_\"\n",
    "\n",
    "#iki farklı kullanım da mevcut.\n",
    "m.upper()\n",
    "str.upper(m)\n",
    "\n",
    "#\n",
    "m.strip(\"_\") #belirtilen karakteri baştan ve sondan temizler.\n",
    "\n",
    "#\n",
    "m.strip(\"_\").title() #her kelimenin ilk harfi büyük\n",
    "str.title(m.strip(\"_\"))\n",
    "\n",
    "#\n",
    "m.center(30) #30 karakter içerisine ortala\n",
    "m.center(30,\"/\")#kalan karakteri / yap\n",
    "\n",
    "#\n",
    "\"2025\".isnumeric() #karakteleri sayı mı?\n",
    "\"pil@v\".isalpha()  #karakter alfabede mevcut mu? @ mevcut değil.\n",
    "\n",
    "#\n",
    "m = \"Abdullah Kise\"\n",
    "m.split() #varsayılan space'e göre parçalar bir liste döner.\n",
    "\n",
    "#\n",
    "\";\".join([\"Ali\",\"Uçan\"])#str liste elemanlarını bir metin(;) ile birleştirir."
   ]
  },
  {
   "cell_type": "code",
   "execution_count": null,
   "id": "80818aa6",
   "metadata": {},
   "outputs": [
    {
     "name": "stdout",
     "output_type": "stream",
     "text": [
      "Ad:Ali   Maaş:1231.49\n"
     ]
    }
   ],
   "source": [
    "ad = \"Ali\"\n",
    "maas = 1231.49\n",
    "\n",
    "#{} placeholder içerisine sırayla değerler gelir.\n",
    "fmt = \"Ad:{}   Maaş:{}\".format(ad,maas)\n",
    "\n",
    "#f string yöntemi metnin başında f var. placeholder içerisinde değişkenler kullanılır.\n",
    "fmt = f\"Ad:{ad}   Maaş:{maas}\"\n",
    "\n",
    "print(fmt)"
   ]
  },
  {
   "cell_type": "markdown",
   "id": "70978b97",
   "metadata": {},
   "source": [
    "### list"
   ]
  },
  {
   "cell_type": "code",
   "execution_count": 88,
   "id": "a132a608",
   "metadata": {},
   "outputs": [
    {
     "data": {
      "text/plain": [
       "[-99, 1002, 1001, 1000, 10, 3, 2, 1, 0]"
      ]
     },
     "execution_count": 88,
     "metadata": {},
     "output_type": "execute_result"
    }
   ],
   "source": [
    "dir(list)\n",
    "\"\"\"\n",
    "'append',\n",
    " 'clear',\n",
    " 'copy',\n",
    " 'count',\n",
    " 'extend',\n",
    " 'index',\n",
    " 'insert',\n",
    " 'pop',\n",
    " 'remove',\n",
    " 'reverse',\n",
    " 'sort'\n",
    "\"\"\"\n",
    "\n",
    "l = [0,1,2,3]\n",
    "\n",
    "#\n",
    "l.append(10) #olduğu gibi tek bir eleman olarak ekler\n",
    "l.append((100,200))\n",
    "\n",
    "#contaimer elemanlarını açarak tek tek eklesin.\n",
    "l.extend((1000,1001,1002))\n",
    "\n",
    "#\n",
    "l.reverse() #listeyi ters çevirir.\n",
    "#l.sort() #içinde tuple var. sıralama kuralı belirtmemiz lazım.\n",
    "\n",
    "#\n",
    "l.remove((100,200)) #append tersidir. siler.\n",
    "\n",
    "#\n",
    "l.insert(0, -99) #0.indexe -99 ekler.\n",
    "\n",
    "#\n",
    "l"
   ]
  },
  {
   "cell_type": "markdown",
   "id": "59bc87cb",
   "metadata": {},
   "source": [
    "### tuple"
   ]
  },
  {
   "cell_type": "code",
   "execution_count": null,
   "id": "13d07feb",
   "metadata": {},
   "outputs": [
    {
     "data": {
      "text/plain": [
       "'metin'"
      ]
     },
     "execution_count": 93,
     "metadata": {},
     "output_type": "execute_result"
    }
   ],
   "source": [
    "dir(tuple)\n",
    "\n",
    "#\n",
    "t\n",
    "\n",
    "#tüm containerda mevcut fonksiyonlardır.\n",
    "t.count(\"metin\") #belirtilen elemandan kaç tane var.\n",
    "t.index(\"metin\") #kaçıncı indexte\n",
    "t[5]"
   ]
  },
  {
   "cell_type": "markdown",
   "id": "d0c83a82",
   "metadata": {},
   "source": [
    "### Set"
   ]
  },
  {
   "cell_type": "code",
   "execution_count": null,
   "id": "2da7bcde",
   "metadata": {},
   "outputs": [
    {
     "data": {
      "text/plain": [
       "{3}"
      ]
     },
     "execution_count": 100,
     "metadata": {},
     "output_type": "execute_result"
    }
   ],
   "source": [
    "dir(set)\n",
    "\n",
    "#\n",
    "a = {1,2,3,\"dört\"}\n",
    "b = {3,4,5,6}\n",
    "\n",
    "#\n",
    "a.union(b) #tekilleştirerek elemanları birleştirir.\n",
    "a | b #birleşim operatoru.\n",
    "\n",
    "#\n",
    "a.difference(b) #a'da olup b'de olmayan\n",
    "a-b\n",
    "\n",
    "#\n",
    "a.intersection(b)#kesişim\n",
    "a&b"
   ]
  },
  {
   "cell_type": "markdown",
   "id": "2d48c33a",
   "metadata": {},
   "source": [
    "### dict"
   ]
  },
  {
   "cell_type": "code",
   "execution_count": null,
   "id": "ed1a84da",
   "metadata": {},
   "outputs": [
    {
     "data": {
      "text/plain": [
       "{'ad': 'Abdullah',\n",
       " 'soyad': 'Kise',\n",
       " 'Telefon': ['123-31', '12314-3453'],\n",
       " 'AktifMi': True,\n",
       " (2025, 'Maaş'): 13213.34,\n",
       " 'olmayanKey': 'Bir değer'}"
      ]
     },
     "execution_count": 103,
     "metadata": {},
     "output_type": "execute_result"
    }
   ],
   "source": [
    "dir(dict)\n",
    "\n",
    "#\n",
    "#p.get()\n",
    "#p.keys()\n",
    "#p.values()\n",
    "#p.items()\n",
    "\n",
    "personel\n",
    "\n",
    "#\n",
    "personel[\"olmayanKey\"] = \"Bir değer\" #yeni key value ekleriz.\n",
    "\n",
    "#\n",
    "personel"
   ]
  }
 ],
 "metadata": {
  "kernelspec": {
   "display_name": "Python 3",
   "language": "python",
   "name": "python3"
  },
  "language_info": {
   "codemirror_mode": {
    "name": "ipython",
    "version": 3
   },
   "file_extension": ".py",
   "mimetype": "text/x-python",
   "name": "python",
   "nbconvert_exporter": "python",
   "pygments_lexer": "ipython3",
   "version": "3.11.3"
  }
 },
 "nbformat": 4,
 "nbformat_minor": 5
}
