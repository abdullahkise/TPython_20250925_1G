{
 "cells": [
  {
   "cell_type": "markdown",
   "id": "c5d7b639",
   "metadata": {},
   "source": [
    "# Karar Yapıları\n",
    "* if-elif...elif-else\n",
    "```python\n",
    "if şart:\n",
    "    #şart True dönerse\n",
    "elif şart2:\n",
    "    #şart 2 True döner\n",
    "elif şart3:\n",
    "    #şart 3 True dönerse\n",
    "else:\n",
    "    #yukarıdaki şartların hiç birine uymazsa.\n",
    "```\n",
    "* ternary\n",
    "```python\n",
    "şartTrueise if şart else şartFalseise\n",
    "```"
   ]
  },
  {
   "cell_type": "code",
   "execution_count": 11,
   "id": "13c4ca21",
   "metadata": {},
   "outputs": [
    {
     "name": "stdout",
     "output_type": "stream",
     "text": [
      "Sayılsa notunuz :50\n",
      "Harf Karşılığı :C\n",
      "Programın sonuna gelindi.\n"
     ]
    }
   ],
   "source": [
    "#if-elif....elif-else\n",
    "skor = input(\"Notunuzu giriniz: \")\n",
    "harfNotu = \"\"\n",
    "\n",
    "#\n",
    "skor = int(skor) #int tipine çevirdik.\n",
    "\n",
    "#\n",
    "if 0<=skor<=100: #skor >= 0 and skor<=100:\n",
    "    #pass #kodlar için yer tutucudur. daha sonra kod yazacağım bu yüzden hata verme\n",
    "    #... #kodlar için alternatif yer tutucudur.\n",
    "\n",
    "    if skor >= 85:\n",
    "        harfNotu = \"A\"\n",
    "    elif skor>=70:\n",
    "        harfNotu = \"B\"\n",
    "    elif skor>=50:\n",
    "        harfNotu = \"C\"\n",
    "    elif skor>=30:\n",
    "        harfNotu = \"D\"\n",
    "    else:\n",
    "        harfNotu =\"F\"\n",
    "\n",
    "    #--içteki if blogunda değiliz\n",
    "    print(f\"Sayılsa notunuz :{skor}\\nHarf Karşılığı :{harfNotu}\")\n",
    "else:\n",
    "    print(\"0 ile 100 arasında not giriniz!\")\n",
    "\n",
    "#---\n",
    "print(\"Programın sonuna gelindi.\")"
   ]
  },
  {
   "cell_type": "code",
   "execution_count": 13,
   "id": "fa9aa0b3",
   "metadata": {},
   "outputs": [
    {
     "data": {
      "text/plain": [
       "'çift sayıdır'"
      ]
     },
     "execution_count": 13,
     "metadata": {},
     "output_type": "execute_result"
    }
   ],
   "source": [
    "#ternary\n",
    "x = 6\n",
    "\n",
    "\"çift sayıdır\" if x%2==0 else \"tek sayıdır\""
   ]
  },
  {
   "cell_type": "code",
   "execution_count": null,
   "id": "783d4626",
   "metadata": {},
   "outputs": [
    {
     "name": "stdout",
     "output_type": "stream",
     "text": [
      "Elma seçtiniz.\n"
     ]
    }
   ],
   "source": [
    "#match: desen kontrolü #python 3.10 sonrası geldi.\n",
    "deger = \"elma\"\n",
    "\n",
    "match deger:\n",
    "    case \"elma\":\n",
    "        print(\"Elma seçtiniz.\")\n",
    "    case \"muz\":\n",
    "        print(\"Muz seçtiniz.\")\n",
    "    case _:\n",
    "        print(\"Başka bir şey seçtiniz\")"
   ]
  },
  {
   "cell_type": "markdown",
   "id": "1c3c3b5a",
   "metadata": {},
   "source": [
    "### Döngüler\n",
    "* for\n",
    "  * container içinde elemanlara tek tek ulaşmamızı sağlar.\n",
    "```python\n",
    "for eleman in grup:\n",
    "    #her bir elemana işlem yap.\n",
    "```\n",
    "* while\n",
    "    * şart True olduğu sürece döngü çalışır\n",
    "```python\n",
    "while şart:\n",
    "    #şart True olduğu sürece çalışır\n",
    "else:\n",
    "    #şarta uynayan ilk durumda devreye girer.\n",
    "```\n",
    "* tüm döngüler `continue` ile o noktadan itibaren devam etmez yeni iterasyona atlar.  `break` donguden çıkar."
   ]
  },
  {
   "cell_type": "code",
   "execution_count": 20,
   "id": "89ea238b",
   "metadata": {},
   "outputs": [
    {
     "name": "stdout",
     "output_type": "stream",
     "text": [
      "M E R H A B A   D Ü N Y A L I "
     ]
    }
   ],
   "source": [
    "#for\n",
    "cumle = \"merhaba dünyalı\"\n",
    "for karakter in cumle:\n",
    "    print(karakter.upper(), end=\" \") #her bir karaktere ulaştık."
   ]
  },
  {
   "cell_type": "code",
   "execution_count": 24,
   "id": "6d5961c4",
   "metadata": {},
   "outputs": [
    {
     "data": {
      "text/plain": [
       "[0, 3, 6, 9]"
      ]
     },
     "execution_count": 24,
     "metadata": {},
     "output_type": "execute_result"
    }
   ],
   "source": [
    "#soru:\n",
    "#0-10 arasındaki sayılardan 3'e tam bölünenleri getirelim.\n",
    "sayilar = [0,1,2,3,4,5,6,7,8,9]\n",
    "tamBolunenlerListesi = []\n",
    "#\n",
    "for s in sayilar:\n",
    "    if s%3==0:\n",
    "        #print(s**2)\n",
    "        tamBolunenlerListesi.append(s)\n",
    "\n",
    "#\n",
    "tamBolunenlerListesi"
   ]
  },
  {
   "cell_type": "code",
   "execution_count": 28,
   "id": "9b39be7a",
   "metadata": {},
   "outputs": [
    {
     "data": {
      "text/plain": [
       "range(3, 100, 2)"
      ]
     },
     "execution_count": 28,
     "metadata": {},
     "output_type": "execute_result"
    }
   ],
   "source": [
    "range(10) #containi bilindik bir tipe çevirelim.\n",
    "list(range(10)) #list tipine çevirleim\n",
    "\n",
    "#\n",
    "range(3,100,2) #start, stop, step\n",
    "#list(range(3,100,2))"
   ]
  },
  {
   "cell_type": "code",
   "execution_count": 34,
   "id": "14b4e84e",
   "metadata": {},
   "outputs": [
    {
     "name": "stdout",
     "output_type": "stream",
     "text": [
      "3 X 1 = 3\n",
      "3 X 2 = 6\n",
      "3 X 3 = 9\n",
      "3 X 4 = 12\n",
      "3 X 5 = 15\n",
      "3 X 6 = 18\n",
      "3 X 7 = 21\n",
      "3 X 8 = 24\n",
      "3 X 9 = 27\n",
      "3 X 10 = 30\n"
     ]
    }
   ],
   "source": [
    "#Çarpım tablosu yapalım\n",
    "kaclar=7\n",
    "\n",
    "#\n",
    "for x in range(2,11): #[2,3,4,5,6,7,8,9,10]\n",
    "    if x==3:\n",
    "        for y in range(1,11):\n",
    "            print(f\"{x} X {y} = {x*y}\")\n",
    "        #\n",
    "        #print(\"---\") #dışarıdaki for için çalıştı."
   ]
  },
  {
   "cell_type": "code",
   "execution_count": null,
   "id": "d2b39f83",
   "metadata": {},
   "outputs": [
    {
     "data": {
      "text/plain": [
       "52.5"
      ]
     },
     "execution_count": 40,
     "metadata": {},
     "output_type": "execute_result"
    }
   ],
   "source": [
    "#örn: 1-100 arasındaki sayılardan 7'te tam bölünenlerin adedi, toplamını vs. getirelim.\n",
    "#---------------------\n",
    "tamBolunenler = []\n",
    "\n",
    "#\n",
    "for s in range(1,101):\n",
    "    if s%7==0:\n",
    "        tamBolunenler.append(s)\n",
    "\n",
    "#---------------------\n",
    "\n",
    "\n",
    "#for dışı\n",
    "tamBolunenler\n",
    "\n",
    "#gömüü container fonksiyonları.\n",
    "sum(tamBolunenler)\n",
    "max(tamBolunenler)\n",
    "min(tamBolunenler)\n",
    "len(tamBolunenler) #eleman sayısı\n",
    "\n",
    "#ortalama\n",
    "sum(tamBolunenler) / len(tamBolunenler)"
   ]
  },
  {
   "cell_type": "code",
   "execution_count": null,
   "id": "54cfae32",
   "metadata": {},
   "outputs": [
    {
     "data": {
      "text/plain": [
       "[7, 14, 21, 28, 35, 42, 49, 56, 63, 70, 77, 84, 91, 98]"
      ]
     },
     "execution_count": 42,
     "metadata": {},
     "output_type": "execute_result"
    }
   ],
   "source": [
    "#list comprehension\n",
    "#container tanımı içerisinde for ve if yazabiliriz. geriye container döner.\n",
    "tamBolunenler = [s for s in range(1,101) if s%7==0]\n",
    "\n",
    "tamBolunenler"
   ]
  },
  {
   "cell_type": "code",
   "execution_count": null,
   "id": "2c958596",
   "metadata": {},
   "outputs": [
    {
     "data": {
      "text/plain": [
       "'merhaba'"
      ]
     },
     "execution_count": 45,
     "metadata": {},
     "output_type": "execute_result"
    }
   ],
   "source": [
    "#soru:\n",
    "#me1r3h2a,b;a\n",
    "#alfabedeki harfler dışındakileri temizleyelim.\n",
    "metin = \"me1r2h3a4b5,a\"\n",
    "temizMetin=\"\"\n",
    "\n",
    "#\n",
    "for m in metin:\n",
    "    if m.isalpha():\n",
    "        #print(m)\n",
    "        #temizMetin = temizMetin + m\n",
    "        temizMetin += m\n",
    "\n",
    "#\n",
    "temizMetin"
   ]
  },
  {
   "cell_type": "markdown",
   "id": "f4a5cd9c",
   "metadata": {},
   "source": [
    "### while"
   ]
  },
  {
   "cell_type": "code",
   "execution_count": 52,
   "id": "7b3851a8",
   "metadata": {},
   "outputs": [
    {
     "name": "stdout",
     "output_type": "stream",
     "text": [
      "1\n",
      "3\n",
      "5\n"
     ]
    }
   ],
   "source": [
    "sayac = 0\n",
    "\n",
    "while sayac < 10:\n",
    "    sayac +=1 #her döngüde 1 arttır\n",
    "    \n",
    "    #---------\n",
    "    if sayac ==7:\n",
    "        break #döngüyü sonlandırır.\n",
    "    elif sayac %2==0:\n",
    "        continue #durup sonraki iterasyona geçilmesini sağlar.\n",
    "    #---------\n",
    "    print(sayac)\n",
    "    \n",
    "else:\n",
    "    print(f\"Sayac değeri {sayac}'a ulaştı. şarta uymayan durum.\")"
   ]
  }
 ],
 "metadata": {
  "kernelspec": {
   "display_name": "Python 3",
   "language": "python",
   "name": "python3"
  },
  "language_info": {
   "codemirror_mode": {
    "name": "ipython",
    "version": 3
   },
   "file_extension": ".py",
   "mimetype": "text/x-python",
   "name": "python",
   "nbconvert_exporter": "python",
   "pygments_lexer": "ipython3",
   "version": "3.11.3"
  }
 },
 "nbformat": 4,
 "nbformat_minor": 5
}
