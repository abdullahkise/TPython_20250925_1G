{
 "cells": [
  {
   "cell_type": "markdown",
   "id": "0375d579",
   "metadata": {},
   "source": [
    "# Operatorler\n",
    "![alt text](helper/Operatorler.png)"
   ]
  },
  {
   "cell_type": "markdown",
   "id": "91cab929",
   "metadata": {},
   "source": [
    "* $h^2 = x^2 + y^2$\n",
    "* $ h = \\sqrt{x^2 + y^2}$"
   ]
  },
  {
   "cell_type": "code",
   "execution_count": null,
   "id": "f1f8ce68",
   "metadata": {},
   "outputs": [
    {
     "name": "stdout",
     "output_type": "stream",
     "text": [
      "Hipotenüs : 5.0\n",
      "hipotenüs : 5.0\n"
     ]
    }
   ],
   "source": [
    "#soru:\n",
    "#iki dik kenarı verilen üçgenin hipotenüsü nedir?\n",
    "#h^2 = x^2 + y^2\n",
    "#h = ? nedir?\n",
    "\n",
    "\"\"\"\n",
    "#markdown\n",
    "$h^2 = x^2 + y^2$\n",
    "$h = \\sqrt{x^2 + y^2}$\n",
    "\"\"\"\n",
    "\n",
    "#cevap\n",
    "x = 3\n",
    "y = 4\n",
    "\n",
    "#\n",
    "#pow(x,y)\n",
    "#math.pow(x,y)\n",
    "#x**y\n",
    "#h = (x**2 + y**2) ** 0.5 #0.5 kuvveti yani kökü aldık.\n",
    "\n",
    "#\n",
    "# import math\n",
    "# h = math.sqrt((x**2 + y**2))\n",
    "\n",
    "print(\"Hipotenüs :\",h) #varsayılan ayraç (sep) boşluktur.\n",
    "print(f\"hipotenüs : {h}\") #f string ile"
   ]
  },
  {
   "cell_type": "code",
   "execution_count": 11,
   "id": "c97793ce",
   "metadata": {},
   "outputs": [
    {
     "name": "stdout",
     "output_type": "stream",
     "text": [
      "Çocuğunuz doğalu 12 yil, 6 ay oldu.\n"
     ]
    }
   ],
   "source": [
    "#soru:\n",
    "#ay olarka verilen yası yıl ve ay olarak sunalım.\n",
    "#56 aylık bir çocuk doğalı kaç yıl kaç ay oldu.\n",
    "kacAylik = 150\n",
    "\n",
    "#cevap\n",
    "yil = kacAylik // 12\n",
    "ay = kacAylik % 12\n",
    "\n",
    "#\n",
    "print(\"Çocuğunuz doğalu {} yil, {} ay oldu.\".format(yil, ay))"
   ]
  },
  {
   "cell_type": "markdown",
   "id": "9c9b0ca4",
   "metadata": {},
   "source": [
    "## Atama"
   ]
  },
  {
   "cell_type": "code",
   "execution_count": 13,
   "id": "bc5c8204",
   "metadata": {},
   "outputs": [
    {
     "name": "stdout",
     "output_type": "stream",
     "text": [
      "1\n",
      "2\n",
      "3\n"
     ]
    }
   ],
   "source": [
    "x = 5 #klasik atama\n",
    "\n",
    "x = y = 5 #zincir atama\n",
    "\n",
    "x,y,z = 1,2,3 #unpacking: desen aynı ise değeşkenlere o desendeki değerler atanır.\n",
    "\n",
    "print(x,y,z , sep=\"\\n\") #her değeri alt satırda göster"
   ]
  },
  {
   "cell_type": "code",
   "execution_count": 18,
   "id": "9f76ec22",
   "metadata": {},
   "outputs": [
    {
     "data": {
      "text/plain": [
       "8"
      ]
     },
     "execution_count": 18,
     "metadata": {},
     "output_type": "execute_result"
    }
   ],
   "source": [
    "x = 5\n",
    "\n",
    "#\n",
    "#x = x+3\n",
    "x +=3 #kümülatif atama. sağ taraf hesaplanır sol tarafa atanır.\n",
    "\n",
    "x"
   ]
  },
  {
   "cell_type": "code",
   "execution_count": null,
   "id": "aa1c85b6",
   "metadata": {},
   "outputs": [
    {
     "name": "stdout",
     "output_type": "stream",
     "text": [
      "2 1\n"
     ]
    }
   ],
   "source": [
    "x = 1\n",
    "y = 2\n",
    "\n",
    "#sağdakini önce hesaplar sonra sola atar.\n",
    "x , y = y, x #2,1\n",
    "\n",
    "print(x,y)"
   ]
  },
  {
   "cell_type": "markdown",
   "id": "c454dbc8",
   "metadata": {},
   "source": [
    "### mantıksal"
   ]
  },
  {
   "cell_type": "code",
   "execution_count": null,
   "id": "f3a3a951",
   "metadata": {},
   "outputs": [
    {
     "data": {
      "text/plain": [
       "True"
      ]
     },
     "execution_count": 22,
     "metadata": {},
     "output_type": "execute_result"
    }
   ],
   "source": [
    "kadi = \"admin\"\n",
    "ksifre = \"1234\"\n",
    "\n",
    "#\n",
    "kadi == \"admin\" and ksifre == \"1234\"\n",
    "#her iki taraf True ise sonuç True olur."
   ]
  },
  {
   "cell_type": "markdown",
   "id": "004ee42c",
   "metadata": {},
   "source": [
    "### identity"
   ]
  },
  {
   "cell_type": "code",
   "execution_count": null,
   "id": "138ae817",
   "metadata": {},
   "outputs": [
    {
     "data": {
      "text/plain": [
       "False"
      ]
     },
     "execution_count": 30,
     "metadata": {},
     "output_type": "execute_result"
    }
   ],
   "source": [
    "la = [1,2,3]\n",
    "#lb = la #referansı kopyalar.lb yapılan değişiklikler la'yı etkiler.\n",
    "\n",
    "lb = la.copy() #copy sadece değeri kopyalar. referansı kopyalamadığı için orjinali etkilenmez.\n",
    "\n",
    "# memoryde aynı yeri mi gösteriyor\n",
    "la is lb \n"
   ]
  },
  {
   "cell_type": "markdown",
   "id": "a5e1d672",
   "metadata": {},
   "source": [
    "### membership"
   ]
  },
  {
   "cell_type": "code",
   "execution_count": 33,
   "id": "f935feb2",
   "metadata": {},
   "outputs": [
    {
     "data": {
      "text/plain": [
       "False"
      ]
     },
     "execution_count": 33,
     "metadata": {},
     "output_type": "execute_result"
    }
   ],
   "source": [
    "\"m\" in \"merhaba\" #str container. True\n",
    "\n",
    "#\n",
    "100 in [1,2,3] #False"
   ]
  },
  {
   "cell_type": "markdown",
   "id": "79322962",
   "metadata": {},
   "source": [
    "### Kullanıcıdan Değer Almak için `input` kullanılır\n",
    "* dışarıdan gelen değerler metinseldir."
   ]
  },
  {
   "cell_type": "code",
   "execution_count": null,
   "id": "4c5e6b3f",
   "metadata": {},
   "outputs": [
    {
     "name": "stdout",
     "output_type": "stream",
     "text": [
      "<class 'str'>\n",
      "Sonuç : 1020\n"
     ]
    }
   ],
   "source": [
    "s1 = input(\"1. sayıyı giriniz:\")\n",
    "s2 = input(\"2. sayıyı giriniz:\" )\n",
    "\n",
    "print(type(s1))\n",
    "#\n",
    "toplam = s1+s2 #+ operatoru str'leri birleştirir. numericleri toplar.\n",
    "\n",
    "print(f\"Sonuç : {toplam}\")"
   ]
  },
  {
   "cell_type": "markdown",
   "id": "a0c89382",
   "metadata": {},
   "source": [
    "### Tip Dönüşümü\n",
    "![alt text](helper/TipDonusu.png)"
   ]
  },
  {
   "cell_type": "code",
   "execution_count": 38,
   "id": "73577bb3",
   "metadata": {},
   "outputs": [
    {
     "name": "stdout",
     "output_type": "stream",
     "text": [
      "<class 'int'>\n",
      "Sonuç : 30.0\n"
     ]
    }
   ],
   "source": [
    "s1 = input(\"1. sayıyı giriniz:\")\n",
    "s2 = input(\"2. sayıyı giriniz:\" )\n",
    "\n",
    "#\n",
    "#tip dönüşmü\n",
    "s1 = int(s1) #s1 str tipinden di şimdi int tipi\n",
    "s2 = float(s2) #s2 float tipine dönüştü.\n",
    "\n",
    "#\n",
    "print(type(s1))\n",
    "#\n",
    "toplam = s1 + s2 #numeric olduğu için topladı.\n",
    "\n",
    "print(f\"Sonuç : {toplam}\")"
   ]
  },
  {
   "cell_type": "code",
   "execution_count": 41,
   "id": "1dab3a75",
   "metadata": {},
   "outputs": [
    {
     "data": {
      "text/plain": [
       "{'A', 'B', 'I', 'K', 'L'}"
      ]
     },
     "execution_count": 41,
     "metadata": {},
     "output_type": "execute_result"
    }
   ],
   "source": [
    "##containerlarda tip dönüşüm. bir containi elemanı diğerinin elemanı halinge gelir.\n",
    "l = [\"elma\",\"kiraz\",\"kiraz\",\"karpuz\"]\n",
    "set(l) #listeyi set yaptık.\n",
    "\n",
    "#\n",
    "m = \"KALABALIK\" #str container\n",
    "s = set(m)\n",
    "\n",
    "s"
   ]
  },
  {
   "cell_type": "code",
   "execution_count": 68,
   "id": "080c2f32",
   "metadata": {},
   "outputs": [
    {
     "name": "stdout",
     "output_type": "stream",
     "text": [
      "Hakedişiniz : 23631.4\n",
      "Hakedişiniz : 23631.40\n",
      "Hakedişiniz : 23,631.40\n",
      "Hakedişiniz :                      23,631.40\n",
      "Hakedişiniz : /////////////////////23,631.40\n"
     ]
    }
   ],
   "source": [
    "## Soru:\n",
    "# Kullanıcıdan çalışma saatini isteyelim\n",
    "# en az 40 saat çalışıldını varsayıyoruz.\n",
    "# 40 saat üzeri mesai olsun. mesai normal çalışma ücretinin 1.5 katıdır.\n",
    "# hakedis hesaplayalım.\n",
    "# saatlik ücret değişkende olsun.\n",
    "\n",
    "# cevap:\n",
    "saatlikUcret = 317.2 #tl\n",
    "kacSaatCalisildi =int(\"63\") #input(\"Kaç saat çalıştınız: \") #metinse bir tip gelir.\n",
    "#kacSaatCalisildi = int(kacSaatCalisildi)\n",
    "\n",
    "#\n",
    "hakedis = 40 * saatlikUcret + (kacSaatCalisildi-40)*(saatlikUcret*1.5) \n",
    "\n",
    "print(f\"Hakedişiniz : {hakedis}\")\n",
    "\n",
    "#{indexVeyaAlias : formatString}\n",
    "\"\"\"\n",
    "    {indexVeyaAlias : formatString}\n",
    "\n",
    "    formatString:\n",
    "    boşluklaraKarakterbas | Hizalama (<>^)|hizalanacakArakterSayisi | binlikAyrac (_,)| .BasamakSayisi\n",
    "\n",
    "\n",
    "    tipBelirtirken:\n",
    "    f : float\n",
    "    s : str\n",
    "    d : int\n",
    "\"\"\"\n",
    "print(\"Hakedişiniz : {:.2f}\".format(hakedis))\n",
    "print(\"Hakedişiniz : {:,.2f}\".format(hakedis))\n",
    "print(\"Hakedişiniz : {:>30,.2f}\".format(hakedis))\n",
    "print(\"Hakedişiniz : {:/>30,.2f}\".format(hakedis))\n",
    "\n",
    "#gömülü\n",
    "#format(hakedis,\"/>30,.2f\")"
   ]
  },
  {
   "cell_type": "code",
   "execution_count": 69,
   "id": "6819d583",
   "metadata": {},
   "outputs": [
    {
     "data": {
      "text/plain": [
       "23631.4"
      ]
     },
     "execution_count": 69,
     "metadata": {},
     "output_type": "execute_result"
    }
   ],
   "source": [
    "hakedis"
   ]
  },
  {
   "cell_type": "code",
   "execution_count": null,
   "id": "4432eda3",
   "metadata": {},
   "outputs": [
    {
     "ename": "NameError",
     "evalue": "name 'hakedis' is not defined",
     "output_type": "error",
     "traceback": [
      "\u001b[1;31m---------------------------------------------------------------------------\u001b[0m",
      "\u001b[1;31mNameError\u001b[0m                                 Traceback (most recent call last)",
      "Cell \u001b[1;32mIn[70], line 3\u001b[0m\n\u001b[0;32m      1\u001b[0m \u001b[38;5;66;03m#memryden tamamen kaldırır.\u001b[39;00m\n\u001b[0;32m      2\u001b[0m \u001b[38;5;28;01mdel\u001b[39;00m hakedis\n\u001b[1;32m----> 3\u001b[0m \u001b[43mhakedis\u001b[49m\n",
      "\u001b[1;31mNameError\u001b[0m: name 'hakedis' is not defined"
     ]
    }
   ],
   "source": [
    "#memryden tamamen kaldırır.\n",
    "del hakedis\n",
    "hakedis  #sildik."
   ]
  }
 ],
 "metadata": {
  "kernelspec": {
   "display_name": "Python 3",
   "language": "python",
   "name": "python3"
  },
  "language_info": {
   "codemirror_mode": {
    "name": "ipython",
    "version": 3
   },
   "file_extension": ".py",
   "mimetype": "text/x-python",
   "name": "python",
   "nbconvert_exporter": "python",
   "pygments_lexer": "ipython3",
   "version": "3.11.3"
  }
 },
 "nbformat": 4,
 "nbformat_minor": 5
}
