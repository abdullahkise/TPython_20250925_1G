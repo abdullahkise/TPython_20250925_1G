{
 "cells": [
  {
   "cell_type": "markdown",
   "id": "a1d44fde",
   "metadata": {},
   "source": [
    "# Hata Yönetimi\n",
    "![alt text](helper/HataYonetimiveHataTurleri.png)"
   ]
  },
  {
   "cell_type": "code",
   "execution_count": null,
   "id": "cc625985",
   "metadata": {},
   "outputs": [
    {
     "ename": "SyntaxError",
     "evalue": "cannot assign to expression here. Maybe you meant '==' instead of '='? (249437203.py, line 2)",
     "output_type": "error",
     "traceback": [
      "\u001b[1;36m  Cell \u001b[1;32mIn[1], line 2\u001b[1;36m\u001b[0m\n\u001b[1;33m    if x%2=0:\u001b[0m\n\u001b[1;37m       ^\u001b[0m\n\u001b[1;31mSyntaxError\u001b[0m\u001b[1;31m:\u001b[0m cannot assign to expression here. Maybe you meant '==' instead of '='?\n"
     ]
    }
   ],
   "source": [
    "x=3\n",
    "if x%2=0: #atama operatoru karşılaştırma için == kullanmak gerek.\n",
    "    print(\"hata\")"
   ]
  },
  {
   "cell_type": "code",
   "execution_count": 16,
   "id": "59943638",
   "metadata": {},
   "outputs": [
    {
     "name": "stdout",
     "output_type": "stream",
     "text": [
      "Doğru tipi giriniz\n",
      "Sonuc : Tip hatası\n"
     ]
    }
   ],
   "source": [
    "x = 12\n",
    "y = \"yedi\"#0\n",
    "\n",
    "try:\n",
    "    #hata vermesi muhtemel code\n",
    "    sonuc = x / y\n",
    "except ZeroDivisionError:\n",
    "    sonuc = \"\\u221E\" #unicode karakterler. sonsuz işareti\n",
    "except TypeError:\n",
    "    print(\"Doğru tipi giriniz\")\n",
    "    sonuc = \"Tip hatası\"\n",
    "except Exception as ex: #except: #exception genel hata tipidir.\n",
    "    print(\"Bir hata ile karşılaşıldı.\")\n",
    "    print(\"Sistem hata mesjaı : \",ex)\n",
    "    sonuc = \"error\"\n",
    "\n",
    "#\n",
    "print(f\"Sonuc : {sonuc}\")"
   ]
  },
  {
   "cell_type": "markdown",
   "id": "3c23cab9",
   "metadata": {},
   "source": [
    "### Fonksiyonlar"
   ]
  },
  {
   "cell_type": "code",
   "execution_count": 18,
   "id": "5d20fa4d",
   "metadata": {},
   "outputs": [],
   "source": [
    "# c = 12\n",
    "# f = c*1.8 + 32\n",
    "\n",
    "# f\n",
    "\n",
    "def fnk_sicaklikHesapla(c=10): #parametreler varsayılan değer. varsayılan değerli olan sonda tanımlanır.\n",
    "    f = c*1.8 + 32\n",
    "    return f #geriye return ile değeri döndürebiliriz."
   ]
  },
  {
   "cell_type": "code",
   "execution_count": 20,
   "id": "692f0b5e",
   "metadata": {},
   "outputs": [
    {
     "data": {
      "text/plain": [
       "122.0"
      ]
     },
     "execution_count": 20,
     "metadata": {},
     "output_type": "execute_result"
    }
   ],
   "source": [
    "fnk_sicaklikHesapla() #varsayılan değerli parametresi var.\n",
    "fnk_sicaklikHesapla(50)"
   ]
  },
  {
   "cell_type": "code",
   "execution_count": null,
   "id": "f2121cae",
   "metadata": {},
   "outputs": [
    {
     "data": {
      "text/plain": [
       "68.0"
      ]
     },
     "execution_count": 21,
     "metadata": {},
     "output_type": "execute_result"
    }
   ],
   "source": [
    "#anonim fonksiyon: tek satırda gövdesiz fonksiyon yazabiliriz.\n",
    "#lambda parametreler : returnedilecekdeger\n",
    "\n",
    "#sonradan kullanmak için fonksiyon nesnesini değişkene atayabiliriz.\n",
    "fnk_c2f = lambda c:c*1.8 + 32\n",
    "\n",
    "#\n",
    "fnk_c2f(20)"
   ]
  }
 ],
 "metadata": {
  "kernelspec": {
   "display_name": "Python 3",
   "language": "python",
   "name": "python3"
  },
  "language_info": {
   "codemirror_mode": {
    "name": "ipython",
    "version": 3
   },
   "file_extension": ".py",
   "mimetype": "text/x-python",
   "name": "python",
   "nbconvert_exporter": "python",
   "pygments_lexer": "ipython3",
   "version": "3.11.3"
  }
 },
 "nbformat": 4,
 "nbformat_minor": 5
}
